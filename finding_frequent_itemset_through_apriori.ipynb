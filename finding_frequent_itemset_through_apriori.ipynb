{
 "cells": [
  {
   "cell_type": "code",
   "execution_count": 22,
   "id": "d38884ce-0f7e-4988-899f-5b52185f36f5",
   "metadata": {},
   "outputs": [],
   "source": [
    "from mlxtend.frequent_patterns import apriori\n",
    "import pandas as pd"
   ]
  },
  {
   "cell_type": "code",
   "execution_count": 23,
   "id": "f299634e-c8b7-4ad4-8915-80810732708d",
   "metadata": {},
   "outputs": [],
   "source": [
    "# Sample transactions\n",
    "transactions = [\n",
    "    ['milk', 'cereal', 'banana'],\n",
    "    ['cereal', 'yogurt'],\n",
    "    ['milk', 'banana', 'yogurt'],\n",
    "    ['banana', 'cereal'],\n",
    "    ['milk', 'cereal', 'yogurt', 'banana'],\n",
    "]"
   ]
  },
  {
   "cell_type": "code",
   "execution_count": 24,
   "id": "7230bb1b-63e4-45d2-afb1-b57a11634747",
   "metadata": {},
   "outputs": [],
   "source": [
    "# Convert transactions into a one-hot encoded DataFrame\n",
    "all_items = sorted({item for transaction in transactions for item in transaction})"
   ]
  },
  {
   "cell_type": "code",
   "execution_count": 25,
   "id": "e9547f23-7eaf-4fea-9982-461e5e039678",
   "metadata": {},
   "outputs": [],
   "source": [
    "# Create the one-hot encoded DataFrame\n",
    "encoded_transactions = []\n",
    "for transaction in transactions:\n",
    "    encoded_transactions.append([1 if item in transaction else 0 for item in all_items])"
   ]
  },
  {
   "cell_type": "code",
   "execution_count": 26,
   "id": "ff57b1f2-025f-464d-b6e2-3da00ab36d17",
   "metadata": {},
   "outputs": [],
   "source": [
    "df = pd.DataFrame(encoded_transactions, columns=all_items)"
   ]
  },
  {
   "cell_type": "code",
   "execution_count": 31,
   "id": "e3780197-a611-49c0-83e7-f62e109aa9c0",
   "metadata": {},
   "outputs": [],
   "source": [
    "# Convert DataFrame to boolean type\n",
    "df = df.astype(bool)"
   ]
  },
  {
   "cell_type": "code",
   "execution_count": 38,
   "id": "78bb4317-4e51-4a0d-be9f-4f4ac8a7cb69",
   "metadata": {
    "scrolled": true
   },
   "outputs": [],
   "source": [
    "# Apply the Apriori algorithm to find frequent itemsets\n",
    "min_support = 0.6\n",
    "# Set minimum support\n",
    "frequent_itemsets = apriori(df, min_support=min_support, use_colnames=True)"
   ]
  },
  {
   "cell_type": "code",
   "execution_count": 39,
   "id": "8c33b6be-a416-4929-a279-4a0ec4a427fb",
   "metadata": {},
   "outputs": [
    {
     "name": "stdout",
     "output_type": "stream",
     "text": [
      "Frequent Itemsets:\n",
      "   support          itemsets\n",
      "0      0.8          (banana)\n",
      "1      0.8          (cereal)\n",
      "2      0.6            (milk)\n",
      "3      0.6          (yogurt)\n",
      "4      0.6  (banana, cereal)\n",
      "5      0.6    (banana, milk)\n"
     ]
    }
   ],
   "source": [
    "# Display the frequent itemsets\n",
    "print(\"Frequent Itemsets:\")\n",
    "print(frequent_itemsets)"
   ]
  }
 ],
 "metadata": {
  "kernelspec": {
   "display_name": "Python 3 (ipykernel)",
   "language": "python",
   "name": "python3"
  },
  "language_info": {
   "codemirror_mode": {
    "name": "ipython",
    "version": 3
   },
   "file_extension": ".py",
   "mimetype": "text/x-python",
   "name": "python",
   "nbconvert_exporter": "python",
   "pygments_lexer": "ipython3",
   "version": "3.11.4"
  }
 },
 "nbformat": 4,
 "nbformat_minor": 5
}
