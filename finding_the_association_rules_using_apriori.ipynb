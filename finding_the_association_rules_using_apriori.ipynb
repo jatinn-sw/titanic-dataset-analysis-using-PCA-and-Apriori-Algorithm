{
 "cells": [
  {
   "cell_type": "code",
   "execution_count": 1,
   "id": "178116d2-3ed3-49c6-8c5e-894ac02ff415",
   "metadata": {},
   "outputs": [],
   "source": [
    "import pandas as pd \n",
    "import matplotlib.pyplot as plt\n",
    "from apyori import apriori"
   ]
  },
  {
   "cell_type": "code",
   "execution_count": 2,
   "id": "82ee647a-b829-4c5f-b18f-076a05bdbb81",
   "metadata": {},
   "outputs": [],
   "source": [
    "# Load the dataset, assuming each row is a transaction, and each column represents an item bought\n",
    "groceries_data = pd.read_csv(\"groceries.csv\", header=None)"
   ]
  },
  {
   "cell_type": "code",
   "execution_count": 3,
   "id": "d71061f5-9ac3-437a-b3aa-ca8ac4458460",
   "metadata": {},
   "outputs": [
    {
     "data": {
      "text/html": [
       "<div>\n",
       "<style scoped>\n",
       "    .dataframe tbody tr th:only-of-type {\n",
       "        vertical-align: middle;\n",
       "    }\n",
       "\n",
       "    .dataframe tbody tr th {\n",
       "        vertical-align: top;\n",
       "    }\n",
       "\n",
       "    .dataframe thead th {\n",
       "        text-align: right;\n",
       "    }\n",
       "</style>\n",
       "<table border=\"1\" class=\"dataframe\">\n",
       "  <thead>\n",
       "    <tr style=\"text-align: right;\">\n",
       "      <th></th>\n",
       "      <th>0</th>\n",
       "      <th>1</th>\n",
       "      <th>2</th>\n",
       "      <th>3</th>\n",
       "      <th>4</th>\n",
       "      <th>5</th>\n",
       "      <th>6</th>\n",
       "      <th>7</th>\n",
       "      <th>8</th>\n",
       "      <th>9</th>\n",
       "      <th>...</th>\n",
       "      <th>22</th>\n",
       "      <th>23</th>\n",
       "      <th>24</th>\n",
       "      <th>25</th>\n",
       "      <th>26</th>\n",
       "      <th>27</th>\n",
       "      <th>28</th>\n",
       "      <th>29</th>\n",
       "      <th>30</th>\n",
       "      <th>31</th>\n",
       "    </tr>\n",
       "  </thead>\n",
       "  <tbody>\n",
       "    <tr>\n",
       "      <th>0</th>\n",
       "      <td>Item 1</td>\n",
       "      <td>Item 2</td>\n",
       "      <td>Item 3</td>\n",
       "      <td>Item 4</td>\n",
       "      <td>Item 5</td>\n",
       "      <td>Item 6</td>\n",
       "      <td>Item 7</td>\n",
       "      <td>Item 8</td>\n",
       "      <td>Item 9</td>\n",
       "      <td>Item 10</td>\n",
       "      <td>...</td>\n",
       "      <td>Item 23</td>\n",
       "      <td>Item 24</td>\n",
       "      <td>Item 25</td>\n",
       "      <td>Item 26</td>\n",
       "      <td>Item 27</td>\n",
       "      <td>Item 28</td>\n",
       "      <td>Item 29</td>\n",
       "      <td>Item 30</td>\n",
       "      <td>Item 31</td>\n",
       "      <td>Item 32</td>\n",
       "    </tr>\n",
       "    <tr>\n",
       "      <th>1</th>\n",
       "      <td>citrus fruit</td>\n",
       "      <td>semi-finished bread</td>\n",
       "      <td>margarine</td>\n",
       "      <td>ready soups</td>\n",
       "      <td>NaN</td>\n",
       "      <td>NaN</td>\n",
       "      <td>NaN</td>\n",
       "      <td>NaN</td>\n",
       "      <td>NaN</td>\n",
       "      <td>NaN</td>\n",
       "      <td>...</td>\n",
       "      <td>NaN</td>\n",
       "      <td>NaN</td>\n",
       "      <td>NaN</td>\n",
       "      <td>NaN</td>\n",
       "      <td>NaN</td>\n",
       "      <td>NaN</td>\n",
       "      <td>NaN</td>\n",
       "      <td>NaN</td>\n",
       "      <td>NaN</td>\n",
       "      <td>NaN</td>\n",
       "    </tr>\n",
       "    <tr>\n",
       "      <th>2</th>\n",
       "      <td>tropical fruit</td>\n",
       "      <td>yogurt</td>\n",
       "      <td>coffee</td>\n",
       "      <td>NaN</td>\n",
       "      <td>NaN</td>\n",
       "      <td>NaN</td>\n",
       "      <td>NaN</td>\n",
       "      <td>NaN</td>\n",
       "      <td>NaN</td>\n",
       "      <td>NaN</td>\n",
       "      <td>...</td>\n",
       "      <td>NaN</td>\n",
       "      <td>NaN</td>\n",
       "      <td>NaN</td>\n",
       "      <td>NaN</td>\n",
       "      <td>NaN</td>\n",
       "      <td>NaN</td>\n",
       "      <td>NaN</td>\n",
       "      <td>NaN</td>\n",
       "      <td>NaN</td>\n",
       "      <td>NaN</td>\n",
       "    </tr>\n",
       "    <tr>\n",
       "      <th>3</th>\n",
       "      <td>whole milk</td>\n",
       "      <td>NaN</td>\n",
       "      <td>NaN</td>\n",
       "      <td>NaN</td>\n",
       "      <td>NaN</td>\n",
       "      <td>NaN</td>\n",
       "      <td>NaN</td>\n",
       "      <td>NaN</td>\n",
       "      <td>NaN</td>\n",
       "      <td>NaN</td>\n",
       "      <td>...</td>\n",
       "      <td>NaN</td>\n",
       "      <td>NaN</td>\n",
       "      <td>NaN</td>\n",
       "      <td>NaN</td>\n",
       "      <td>NaN</td>\n",
       "      <td>NaN</td>\n",
       "      <td>NaN</td>\n",
       "      <td>NaN</td>\n",
       "      <td>NaN</td>\n",
       "      <td>NaN</td>\n",
       "    </tr>\n",
       "    <tr>\n",
       "      <th>4</th>\n",
       "      <td>pip fruit</td>\n",
       "      <td>yogurt</td>\n",
       "      <td>cream cheese</td>\n",
       "      <td>meat spreads</td>\n",
       "      <td>NaN</td>\n",
       "      <td>NaN</td>\n",
       "      <td>NaN</td>\n",
       "      <td>NaN</td>\n",
       "      <td>NaN</td>\n",
       "      <td>NaN</td>\n",
       "      <td>...</td>\n",
       "      <td>NaN</td>\n",
       "      <td>NaN</td>\n",
       "      <td>NaN</td>\n",
       "      <td>NaN</td>\n",
       "      <td>NaN</td>\n",
       "      <td>NaN</td>\n",
       "      <td>NaN</td>\n",
       "      <td>NaN</td>\n",
       "      <td>NaN</td>\n",
       "      <td>NaN</td>\n",
       "    </tr>\n",
       "  </tbody>\n",
       "</table>\n",
       "<p>5 rows × 32 columns</p>\n",
       "</div>"
      ],
      "text/plain": [
       "               0                    1             2             3       4   \\\n",
       "0          Item 1               Item 2        Item 3        Item 4  Item 5   \n",
       "1    citrus fruit  semi-finished bread     margarine   ready soups     NaN   \n",
       "2  tropical fruit               yogurt        coffee           NaN     NaN   \n",
       "3      whole milk                  NaN           NaN           NaN     NaN   \n",
       "4       pip fruit               yogurt  cream cheese  meat spreads     NaN   \n",
       "\n",
       "       5       6       7       8        9   ...       22       23       24  \\\n",
       "0  Item 6  Item 7  Item 8  Item 9  Item 10  ...  Item 23  Item 24  Item 25   \n",
       "1     NaN     NaN     NaN     NaN      NaN  ...      NaN      NaN      NaN   \n",
       "2     NaN     NaN     NaN     NaN      NaN  ...      NaN      NaN      NaN   \n",
       "3     NaN     NaN     NaN     NaN      NaN  ...      NaN      NaN      NaN   \n",
       "4     NaN     NaN     NaN     NaN      NaN  ...      NaN      NaN      NaN   \n",
       "\n",
       "        25       26       27       28       29       30       31  \n",
       "0  Item 26  Item 27  Item 28  Item 29  Item 30  Item 31  Item 32  \n",
       "1      NaN      NaN      NaN      NaN      NaN      NaN      NaN  \n",
       "2      NaN      NaN      NaN      NaN      NaN      NaN      NaN  \n",
       "3      NaN      NaN      NaN      NaN      NaN      NaN      NaN  \n",
       "4      NaN      NaN      NaN      NaN      NaN      NaN      NaN  \n",
       "\n",
       "[5 rows x 32 columns]"
      ]
     },
     "metadata": {},
     "output_type": "display_data"
    },
    {
     "name": "stdout",
     "output_type": "stream",
     "text": [
      "(9836, 32)\n"
     ]
    }
   ],
   "source": [
    "# Show a few rows of the dataset\n",
    "display(groceries_data.head())\n",
    "print(groceries_data.shape)"
   ]
  },
  {
   "cell_type": "code",
   "execution_count": 4,
   "id": "482ac1f8-c813-4aa4-b413-dcef0ffc7fb3",
   "metadata": {},
   "outputs": [],
   "source": [
    "# Prepare the records for the Apriori algorithm\n",
    "# Each row will be a list of items bought in a particular transaction\n",
    "records = []\n",
    "for i in range(0, len(groceries_data)):\n",
    "    records.append([str(groceries_data.values[i, j]) for j in range(0, groceries_data.shape[1]) if str(groceries_data.values[i, j]) != 'nan'])  # Excludes 'NaN'"
   ]
  },
  {
   "cell_type": "code",
   "execution_count": 5,
   "id": "6b8f5ef2-be8e-4702-a0a3-8670da07106c",
   "metadata": {},
   "outputs": [
    {
     "name": "stdout",
     "output_type": "stream",
     "text": [
      "<class 'list'>\n"
     ]
    }
   ],
   "source": [
    "# Check the type of records\n",
    "print(type(records))"
   ]
  },
  {
   "cell_type": "code",
   "execution_count": 6,
   "id": "e76c6b10-e3fe-4b88-b080-98cac9727b4f",
   "metadata": {},
   "outputs": [],
   "source": [
    "# Apply the Apriori algorithm\n",
    "# Adjust min_support, min_confidence, and min_lift based on your dataset's size and desired granularity\n",
    "association_rules = apriori(records, min_support=0.003, min_confidence=0.2, min_lift=3, min_length=2)"
   ]
  },
  {
   "cell_type": "code",
   "execution_count": 7,
   "id": "fe500be2-6912-48b5-991a-a032108c05d0",
   "metadata": {},
   "outputs": [
    {
     "name": "stdout",
     "output_type": "stream",
     "text": [
      "There are 225 association rules derived.\n"
     ]
    }
   ],
   "source": [
    "# Convert the association rules into a list for easier interpretation\n",
    "association_results = list(association_rules)\n",
    "print(f\"There are {len(association_results)} association rules derived.\")"
   ]
  },
  {
   "cell_type": "code",
   "execution_count": 8,
   "id": "fa61f3e6-eaec-46de-8022-de485521dd8b",
   "metadata": {},
   "outputs": [],
   "source": [
    "# Print the rules in a readable format\n",
    "for item in association_results:\n",
    "    pair = item[0]                 # 'item[0]' contains the base item and the add-on item (the rule)\n",
    "    items = [x for x in pair]"
   ]
  },
  {
   "cell_type": "code",
   "execution_count": 9,
   "id": "f8f21612-a914-455b-a352-4da1c7c309ce",
   "metadata": {},
   "outputs": [
    {
     "name": "stdout",
     "output_type": "stream",
     "text": [
      "Rule: tropical fruit -> root vegetables\n"
     ]
    }
   ],
   "source": [
    "print(f\"Rule: {items[0]} -> {items[2]}\")"
   ]
  },
  {
   "cell_type": "code",
   "execution_count": 10,
   "id": "93f1a6ba-a8b2-4053-9395-369c33270920",
   "metadata": {},
   "outputs": [
    {
     "name": "stdout",
     "output_type": "stream",
     "text": [
      "Support: 0.0035583570557137048\n"
     ]
    }
   ],
   "source": [
    "# 'item[1]' contains the support of the rule\n",
    "print(f\"Support: {item[1]}\")"
   ]
  },
  {
   "cell_type": "code",
   "execution_count": 11,
   "id": "664abcc8-1dc7-4ab4-9a28-fa32f8acb957",
   "metadata": {},
   "outputs": [
    {
     "name": "stdout",
     "output_type": "stream",
     "text": [
      "Confidence: 0.2892561983471074\n"
     ]
    }
   ],
   "source": [
    "# 'item[2][0][2]' contains the confidence of the rule\n",
    "print(f\"Confidence: {item[2][0][2]}\")"
   ]
  },
  {
   "cell_type": "code",
   "execution_count": 12,
   "id": "f7127204-9c41-4a4c-a5c4-be0a4832c0a5",
   "metadata": {},
   "outputs": [
    {
     "name": "stdout",
     "output_type": "stream",
     "text": [
      "Lift: 5.1635643683160595\n"
     ]
    }
   ],
   "source": [
    "# 'item[2][0][3]' contains the lift of the rule\n",
    "print(f\"Lift: {item[2][0][3]}\")"
   ]
  }
 ],
 "metadata": {
  "kernelspec": {
   "display_name": "Python 3 (ipykernel)",
   "language": "python",
   "name": "python3"
  },
  "language_info": {
   "codemirror_mode": {
    "name": "ipython",
    "version": 3
   },
   "file_extension": ".py",
   "mimetype": "text/x-python",
   "name": "python",
   "nbconvert_exporter": "python",
   "pygments_lexer": "ipython3",
   "version": "3.11.4"
  }
 },
 "nbformat": 4,
 "nbformat_minor": 5
}
